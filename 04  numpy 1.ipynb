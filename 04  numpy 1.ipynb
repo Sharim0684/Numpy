{
 "cells": [
  {
   "cell_type": "code",
   "execution_count": 1,
   "id": "a4e2028a",
   "metadata": {},
   "outputs": [],
   "source": [
    "import numpy as np\n"
   ]
  },
  {
   "cell_type": "code",
   "execution_count": 7,
   "id": "49a4b54f",
   "metadata": {},
   "outputs": [],
   "source": [
    "l = [1,2,3,4,4]\n"
   ]
  },
  {
   "cell_type": "code",
   "execution_count": 8,
   "id": "61bc7a34",
   "metadata": {},
   "outputs": [
    {
     "data": {
      "text/plain": [
       "list"
      ]
     },
     "execution_count": 8,
     "metadata": {},
     "output_type": "execute_result"
    }
   ],
   "source": [
    "type(l)"
   ]
  },
  {
   "cell_type": "code",
   "execution_count": 10,
   "id": "d1ad96ba",
   "metadata": {},
   "outputs": [],
   "source": [
    "a = np.array(l)"
   ]
  },
  {
   "cell_type": "code",
   "execution_count": 11,
   "id": "0f96e594",
   "metadata": {},
   "outputs": [
    {
     "data": {
      "text/plain": [
       "numpy.ndarray"
      ]
     },
     "execution_count": 11,
     "metadata": {},
     "output_type": "execute_result"
    }
   ],
   "source": [
    "type(a)"
   ]
  },
  {
   "cell_type": "code",
   "execution_count": 12,
   "id": "5144aec1",
   "metadata": {},
   "outputs": [
    {
     "data": {
      "text/plain": [
       "array([1, 2, 3, 4, 4])"
      ]
     },
     "execution_count": 12,
     "metadata": {},
     "output_type": "execute_result"
    }
   ],
   "source": [
    "a"
   ]
  },
  {
   "cell_type": "code",
   "execution_count": 13,
   "id": "33e204ec",
   "metadata": {},
   "outputs": [],
   "source": [
    "a1 = np.array([[1,2,3],[3,4,5]])"
   ]
  },
  {
   "cell_type": "code",
   "execution_count": 14,
   "id": "aa779037",
   "metadata": {},
   "outputs": [
    {
     "data": {
      "text/plain": [
       "array([[1, 2, 3],\n",
       "       [3, 4, 5]])"
      ]
     },
     "execution_count": 14,
     "metadata": {},
     "output_type": "execute_result"
    }
   ],
   "source": [
    "a1"
   ]
  },
  {
   "cell_type": "code",
   "execution_count": 15,
   "id": "ca79f766",
   "metadata": {},
   "outputs": [],
   "source": [
    "a2 = np.array([[[1,2,3],[4,.5,6]]])"
   ]
  },
  {
   "cell_type": "code",
   "execution_count": 16,
   "id": "cfc6c1a5",
   "metadata": {},
   "outputs": [
    {
     "data": {
      "text/plain": [
       "array([[[1. , 2. , 3. ],\n",
       "        [4. , 0.5, 6. ]]])"
      ]
     },
     "execution_count": 16,
     "metadata": {},
     "output_type": "execute_result"
    }
   ],
   "source": [
    "a2"
   ]
  },
  {
   "cell_type": "code",
   "execution_count": 17,
   "id": "26583662",
   "metadata": {},
   "outputs": [
    {
     "data": {
      "text/plain": [
       "array([1, 2, 3, 4, 4])"
      ]
     },
     "execution_count": 17,
     "metadata": {},
     "output_type": "execute_result"
    }
   ],
   "source": [
    "a     #[]represented this is an one dimentional"
   ]
  },
  {
   "cell_type": "code",
   "execution_count": 18,
   "id": "81758ed3",
   "metadata": {},
   "outputs": [
    {
     "data": {
      "text/plain": [
       "array([[1, 2, 3],\n",
       "       [3, 4, 5]])"
      ]
     },
     "execution_count": 18,
     "metadata": {},
     "output_type": "execute_result"
    }
   ],
   "source": [
    "a1     #[[]] represent two diamentional"
   ]
  },
  {
   "cell_type": "code",
   "execution_count": 19,
   "id": "2cc20538",
   "metadata": {},
   "outputs": [
    {
     "data": {
      "text/plain": [
       "array([[[1. , 2. , 3. ],\n",
       "        [4. , 0.5, 6. ]]])"
      ]
     },
     "execution_count": 19,
     "metadata": {},
     "output_type": "execute_result"
    }
   ],
   "source": [
    "a2    # represent three dimention"
   ]
  },
  {
   "cell_type": "code",
   "execution_count": 20,
   "id": "d812372a",
   "metadata": {},
   "outputs": [
    {
     "data": {
      "text/plain": [
       "1"
      ]
     },
     "execution_count": 20,
     "metadata": {},
     "output_type": "execute_result"
    }
   ],
   "source": [
    "a.ndim"
   ]
  },
  {
   "cell_type": "code",
   "execution_count": 21,
   "id": "0e1a07e5",
   "metadata": {},
   "outputs": [
    {
     "data": {
      "text/plain": [
       "2"
      ]
     },
     "execution_count": 21,
     "metadata": {},
     "output_type": "execute_result"
    }
   ],
   "source": [
    "a1.ndim"
   ]
  },
  {
   "cell_type": "code",
   "execution_count": 22,
   "id": "b3eb5288",
   "metadata": {},
   "outputs": [
    {
     "data": {
      "text/plain": [
       "3"
      ]
     },
     "execution_count": 22,
     "metadata": {},
     "output_type": "execute_result"
    }
   ],
   "source": [
    "a2.ndim\n"
   ]
  },
  {
   "cell_type": "code",
   "execution_count": 38,
   "id": "e4c2fc84",
   "metadata": {},
   "outputs": [],
   "source": [
    "a3 = np.array([[[1,2,3],[3,4,5]],[[1,2,3],[3,4,5]],[[1,2,3],[3,4,5]]])"
   ]
  },
  {
   "cell_type": "code",
   "execution_count": 39,
   "id": "319ec0e2",
   "metadata": {},
   "outputs": [
    {
     "data": {
      "text/plain": [
       "array([[[1, 2, 3],\n",
       "        [3, 4, 5]],\n",
       "\n",
       "       [[1, 2, 3],\n",
       "        [3, 4, 5]],\n",
       "\n",
       "       [[1, 2, 3],\n",
       "        [3, 4, 5]]])"
      ]
     },
     "execution_count": 39,
     "metadata": {},
     "output_type": "execute_result"
    }
   ],
   "source": [
    "a3"
   ]
  },
  {
   "cell_type": "code",
   "execution_count": 40,
   "id": "2db8f898",
   "metadata": {},
   "outputs": [
    {
     "data": {
      "text/plain": [
       "3"
      ]
     },
     "execution_count": 40,
     "metadata": {},
     "output_type": "execute_result"
    }
   ],
   "source": [
    "a3.ndim"
   ]
  },
  {
   "cell_type": "code",
   "execution_count": 41,
   "id": "8f4e6c7c",
   "metadata": {},
   "outputs": [],
   "source": [
    " l = [1,2,3,4]"
   ]
  },
  {
   "cell_type": "code",
   "execution_count": 42,
   "id": "78cd058a",
   "metadata": {},
   "outputs": [
    {
     "data": {
      "text/plain": [
       "array([1, 2, 3, 4])"
      ]
     },
     "execution_count": 42,
     "metadata": {},
     "output_type": "execute_result"
    }
   ],
   "source": [
    "np.asarray(l)"
   ]
  },
  {
   "cell_type": "code",
   "execution_count": 43,
   "id": "4f770998",
   "metadata": {},
   "outputs": [
    {
     "data": {
      "text/plain": [
       "matrix([[1, 2, 3, 4]])"
      ]
     },
     "execution_count": 43,
     "metadata": {},
     "output_type": "execute_result"
    }
   ],
   "source": [
    "np.matrix(l)"
   ]
  },
  {
   "cell_type": "code",
   "execution_count": 48,
   "id": "d195f6f9",
   "metadata": {},
   "outputs": [
    {
     "data": {
      "text/plain": [
       "array([[ True, False, False, False],\n",
       "       [False,  True, False, False],\n",
       "       [False, False,  True, False]])"
      ]
     },
     "execution_count": 48,
     "metadata": {},
     "output_type": "execute_result"
    }
   ],
   "source": [
    "np.fromfunction(lambda i,j : i==j ,(3,4))   #it ony work for 2 dimentional array"
   ]
  },
  {
   "cell_type": "code",
   "execution_count": 49,
   "id": "8ed621c2",
   "metadata": {},
   "outputs": [
    {
     "data": {
      "text/plain": [
       "array([[0.86034221, 0.31274602, 0.70468582],\n",
       "       [0.20096703, 0.31325001, 0.52819064]])"
      ]
     },
     "execution_count": 49,
     "metadata": {},
     "output_type": "execute_result"
    }
   ],
   "source": [
    "np.random.rand(2,3)"
   ]
  },
  {
   "cell_type": "code",
   "execution_count": 54,
   "id": "87ede67e",
   "metadata": {},
   "outputs": [
    {
     "data": {
      "text/plain": [
       "array([[[0.13265171, 0.21851631],\n",
       "        [0.60168613, 0.21127718],\n",
       "        [0.64239391, 0.58392689]],\n",
       "\n",
       "       [[0.38522247, 0.07244752],\n",
       "        [0.24657918, 0.56000938],\n",
       "        [0.0444886 , 0.94106074]]])"
      ]
     },
     "execution_count": 54,
     "metadata": {},
     "output_type": "execute_result"
    }
   ],
   "source": [
    "np.random.rand(2,3,2)"
   ]
  },
  {
   "cell_type": "code",
   "execution_count": 56,
   "id": "edb8b5cb",
   "metadata": {},
   "outputs": [
    {
     "data": {
      "text/plain": [
       "array([[[[0.92989593, 0.5414398 ],\n",
       "         [0.53059813, 0.93641262]],\n",
       "\n",
       "        [[0.33067163, 0.31251673],\n",
       "         [0.29127649, 0.63140938]],\n",
       "\n",
       "        [[0.17964095, 0.20944859],\n",
       "         [0.07253604, 0.94337963]]],\n",
       "\n",
       "\n",
       "       [[[0.93432172, 0.23498114],\n",
       "         [0.97684058, 0.11221146]],\n",
       "\n",
       "        [[0.14235777, 0.23868674],\n",
       "         [0.55944998, 0.39969095]],\n",
       "\n",
       "        [[0.99029197, 0.12776405],\n",
       "         [0.75593106, 0.52813454]]]])"
      ]
     },
     "execution_count": 56,
     "metadata": {},
     "output_type": "execute_result"
    }
   ],
   "source": [
    "np.random.rand(2,3,2,2)"
   ]
  },
  {
   "cell_type": "code",
   "execution_count": 59,
   "id": "238d1380",
   "metadata": {},
   "outputs": [
    {
     "data": {
      "text/plain": [
       "array([[[0.87224064, 0.55027042, 0.43305386, 0.52942897],\n",
       "        [0.6196611 , 0.44752174, 0.90078902, 0.05520839],\n",
       "        [0.3428827 , 0.00659767, 0.74076304, 0.45492565],\n",
       "        [0.76180345, 0.18196154, 0.19866813, 0.54284051]],\n",
       "\n",
       "       [[0.51559525, 0.23156877, 0.85483795, 0.82623042],\n",
       "        [0.30723297, 0.58203975, 0.51822168, 0.75599232],\n",
       "        [0.66809958, 0.81619573, 0.85456264, 0.35350302],\n",
       "        [0.67575851, 0.83954206, 0.85899331, 0.86855011]],\n",
       "\n",
       "       [[0.56292568, 0.0675911 , 0.30475998, 0.84348716],\n",
       "        [0.24159495, 0.97321882, 0.01015144, 0.37678608],\n",
       "        [0.59911148, 0.93191374, 0.83191635, 0.60347748],\n",
       "        [0.20443501, 0.20634017, 0.90985783, 0.55110671]]])"
      ]
     },
     "execution_count": 59,
     "metadata": {},
     "output_type": "execute_result"
    }
   ],
   "source": [
    "np.random.rand(3,4,4)"
   ]
  },
  {
   "cell_type": "code",
   "execution_count": 67,
   "id": "828a63c7",
   "metadata": {},
   "outputs": [],
   "source": [
    "\n",
    "d = np.random.rand(3,4)"
   ]
  },
  {
   "cell_type": "code",
   "execution_count": 69,
   "id": "c9f13ac3",
   "metadata": {},
   "outputs": [
    {
     "data": {
      "text/html": [
       "<div>\n",
       "<style scoped>\n",
       "    .dataframe tbody tr th:only-of-type {\n",
       "        vertical-align: middle;\n",
       "    }\n",
       "\n",
       "    .dataframe tbody tr th {\n",
       "        vertical-align: top;\n",
       "    }\n",
       "\n",
       "    .dataframe thead th {\n",
       "        text-align: right;\n",
       "    }\n",
       "</style>\n",
       "<table border=\"1\" class=\"dataframe\">\n",
       "  <thead>\n",
       "    <tr style=\"text-align: right;\">\n",
       "      <th></th>\n",
       "      <th>0</th>\n",
       "      <th>1</th>\n",
       "      <th>2</th>\n",
       "      <th>3</th>\n",
       "    </tr>\n",
       "  </thead>\n",
       "  <tbody>\n",
       "    <tr>\n",
       "      <th>0</th>\n",
       "      <td>0.487667</td>\n",
       "      <td>0.619806</td>\n",
       "      <td>0.105206</td>\n",
       "      <td>0.136606</td>\n",
       "    </tr>\n",
       "    <tr>\n",
       "      <th>1</th>\n",
       "      <td>0.486740</td>\n",
       "      <td>0.541241</td>\n",
       "      <td>0.723790</td>\n",
       "      <td>0.052564</td>\n",
       "    </tr>\n",
       "    <tr>\n",
       "      <th>2</th>\n",
       "      <td>0.114834</td>\n",
       "      <td>0.523158</td>\n",
       "      <td>0.121817</td>\n",
       "      <td>0.316147</td>\n",
       "    </tr>\n",
       "  </tbody>\n",
       "</table>\n",
       "</div>"
      ],
      "text/plain": [
       "          0         1         2         3\n",
       "0  0.487667  0.619806  0.105206  0.136606\n",
       "1  0.486740  0.541241  0.723790  0.052564\n",
       "2  0.114834  0.523158  0.121817  0.316147"
      ]
     },
     "execution_count": 69,
     "metadata": {},
     "output_type": "execute_result"
    }
   ],
   "source": [
    "import pandas as pd\n",
    "pd.DataFrame(d)"
   ]
  },
  {
   "cell_type": "code",
   "execution_count": 61,
   "id": "ee1776f8",
   "metadata": {},
   "outputs": [
    {
     "data": {
      "text/plain": [
       "array([[[-0.61991604,  1.24677341, -0.51991486,  2.64990502,\n",
       "          2.19937867],\n",
       "        [-1.69252289, -0.17230565, -0.72364366,  0.27384438,\n",
       "          0.19799206],\n",
       "        [ 0.34206637, -1.07192718,  0.16852274, -0.72580809,\n",
       "         -0.01678891],\n",
       "        [-0.04565797,  0.08278793, -0.21948743, -1.51558259,\n",
       "         -0.55546189]],\n",
       "\n",
       "       [[ 0.78435996,  1.06902579, -0.74585424,  0.64529434,\n",
       "          0.56184867],\n",
       "        [ 0.73236507, -0.73640456, -0.53260973,  0.01673041,\n",
       "          0.03274424],\n",
       "        [-0.26535545, -0.49509521,  0.18965389,  0.05299677,\n",
       "          0.59190951],\n",
       "        [-1.99308974, -0.25628655,  0.68649047, -0.92598252,\n",
       "          0.47346141]],\n",
       "\n",
       "       [[ 0.57025425, -0.62487286, -0.35311195, -1.24883021,\n",
       "         -0.3015806 ],\n",
       "        [ 1.11867976, -1.05924311,  0.62848102,  1.48681207,\n",
       "         -0.49065102],\n",
       "        [-0.91330754, -1.29803432, -1.45132121,  1.71026871,\n",
       "         -2.33419268],\n",
       "        [ 0.36308827,  2.05811791,  0.30940478,  2.56406527,\n",
       "         -1.17528446]]])"
      ]
     },
     "execution_count": 61,
     "metadata": {},
     "output_type": "execute_result"
    }
   ],
   "source": [
    "np.random.randn(3,4,5)"
   ]
  },
  {
   "cell_type": "code",
   "execution_count": 62,
   "id": "19d64291",
   "metadata": {},
   "outputs": [
    {
     "data": {
      "text/plain": [
       "array([[[ 0.85436889, -2.28468571,  0.77079937,  0.55417264],\n",
       "        [ 1.03674819, -0.63609534, -0.35966616, -0.62298121],\n",
       "        [ 0.46105374, -0.48964916,  0.13168495, -0.62930167],\n",
       "        [-0.70570492,  0.8308103 ,  0.74963388, -0.71071969]],\n",
       "\n",
       "       [[ 0.91826892, -0.48934445,  0.82216933, -0.52115477],\n",
       "        [ 0.73588887,  0.659093  , -0.16136222,  1.04607611],\n",
       "        [ 1.21807285,  0.34666803,  1.01752566,  2.06136559],\n",
       "        [-0.48828348, -0.03214267, -0.06336691, -0.12794635]],\n",
       "\n",
       "       [[-0.58887661, -0.47957923,  0.46822616,  0.74544769],\n",
       "        [-2.21518149, -0.46953646,  1.28638836,  0.8122775 ],\n",
       "        [-0.7710009 , -0.77071337, -0.54593211,  0.02567483],\n",
       "        [-1.02639856, -0.23162767, -0.30338496, -1.01434435]]])"
      ]
     },
     "execution_count": 62,
     "metadata": {},
     "output_type": "execute_result"
    }
   ],
   "source": [
    "np.random.randn(3,4,4)"
   ]
  },
  {
   "cell_type": "code",
   "execution_count": 63,
   "id": "66f16d60",
   "metadata": {},
   "outputs": [
    {
     "data": {
      "text/plain": [
       "array([3, 3, 3, 3])"
      ]
     },
     "execution_count": 63,
     "metadata": {},
     "output_type": "execute_result"
    }
   ],
   "source": [
    "np.random.randint(3,4,4)"
   ]
  },
  {
   "cell_type": "code",
   "execution_count": 70,
   "id": "6fe20663",
   "metadata": {},
   "outputs": [],
   "source": [
    "d1 = np.random.randint(0,10,(4,4,2))   #4*4*2=32"
   ]
  },
  {
   "cell_type": "code",
   "execution_count": 71,
   "id": "838fdbe2",
   "metadata": {},
   "outputs": [
    {
     "data": {
      "text/plain": [
       "array([[[0, 4],\n",
       "        [8, 7],\n",
       "        [4, 0],\n",
       "        [6, 8]],\n",
       "\n",
       "       [[3, 4],\n",
       "        [2, 8],\n",
       "        [6, 7],\n",
       "        [9, 4]],\n",
       "\n",
       "       [[9, 6],\n",
       "        [2, 7],\n",
       "        [3, 1],\n",
       "        [6, 6]],\n",
       "\n",
       "       [[4, 5],\n",
       "        [8, 8],\n",
       "        [7, 8],\n",
       "        [9, 4]]])"
      ]
     },
     "execution_count": 71,
     "metadata": {},
     "output_type": "execute_result"
    }
   ],
   "source": [
    "d1"
   ]
  },
  {
   "cell_type": "code",
   "execution_count": 75,
   "id": "e64be652",
   "metadata": {},
   "outputs": [
    {
     "data": {
      "text/plain": [
       "array([[0, 4],\n",
       "       [8, 7],\n",
       "       [4, 0],\n",
       "       [6, 8],\n",
       "       [3, 4],\n",
       "       [2, 8],\n",
       "       [6, 7],\n",
       "       [9, 4],\n",
       "       [9, 6],\n",
       "       [2, 7],\n",
       "       [3, 1],\n",
       "       [6, 6],\n",
       "       [4, 5],\n",
       "       [8, 8],\n",
       "       [7, 8],\n",
       "       [9, 4]])"
      ]
     },
     "execution_count": 75,
     "metadata": {},
     "output_type": "execute_result"
    }
   ],
   "source": [
    "d1.reshape(16,2)"
   ]
  },
  {
   "cell_type": "code",
   "execution_count": 76,
   "id": "556edda9",
   "metadata": {},
   "outputs": [
    {
     "data": {
      "text/plain": [
       "array([[0, 4, 8, 7],\n",
       "       [4, 0, 6, 8],\n",
       "       [3, 4, 2, 8],\n",
       "       [6, 7, 9, 4],\n",
       "       [9, 6, 2, 7],\n",
       "       [3, 1, 6, 6],\n",
       "       [4, 5, 8, 8],\n",
       "       [7, 8, 9, 4]])"
      ]
     },
     "execution_count": 76,
     "metadata": {},
     "output_type": "execute_result"
    }
   ],
   "source": [
    "d1.reshape(8,4)"
   ]
  },
  {
   "cell_type": "code",
   "execution_count": 65,
   "id": "6e8032d2",
   "metadata": {},
   "outputs": [
    {
     "data": {
      "text/plain": [
       "array([[[7, 5],\n",
       "        [8, 7]],\n",
       "\n",
       "       [[9, 9],\n",
       "        [8, 7]],\n",
       "\n",
       "       [[8, 6],\n",
       "        [2, 9]],\n",
       "\n",
       "       [[0, 0],\n",
       "        [4, 7]]])"
      ]
     },
     "execution_count": 65,
     "metadata": {},
     "output_type": "execute_result"
    }
   ],
   "source": [
    "np.random.randint(0,10,(4,2,2))"
   ]
  },
  {
   "cell_type": "code",
   "execution_count": null,
   "id": "511b645a",
   "metadata": {},
   "outputs": [],
   "source": [
    "d1"
   ]
  }
 ],
 "metadata": {
  "kernelspec": {
   "display_name": "Python 3 (ipykernel)",
   "language": "python",
   "name": "python3"
  },
  "language_info": {
   "codemirror_mode": {
    "name": "ipython",
    "version": 3
   },
   "file_extension": ".py",
   "mimetype": "text/x-python",
   "name": "python",
   "nbconvert_exporter": "python",
   "pygments_lexer": "ipython3",
   "version": "3.11.5"
  }
 },
 "nbformat": 4,
 "nbformat_minor": 5
}
